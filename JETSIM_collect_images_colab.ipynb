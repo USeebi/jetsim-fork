{
 "cells": [
  {
   "cell_type": "markdown",
   "metadata": {},
   "source": [
    "[![Open In Colab](https://colab.research.google.com/assets/colab-badge.svg)](https://colab.research.google.com/github/USeebi/jetsim-fork/blob/master/JETSIM_collect_images_colab.ipynb)"
   ]
  },
  {
   "cell_type": "markdown",
   "metadata": {
    "id": "KqscNKpDE4En"
   },
   "source": [
    "Jetsim : Collect Images in Colab\n",
    "===\n",
    "\n"
   ]
  },
  {
   "cell_type": "markdown",
   "metadata": {
    "id": "hYU9IJ4HE4Ep"
   },
   "source": [
    "---\n",
    "\n",
    "### INITIAL SETUP\n",
    "\n",
    "Turn ON **Donkeycar Simulator** before running the code below\n",
    "\n",
    "Setup **Cloudflare Tunnel** on the localhost running Donkeycar Simulator\n",
    "\n",
    "Find the host computer name of the quick Tunnel created and substitute for SUBDOMAIN in the **cloudflared** access CLI below\n",
    "\n",
    "\n",
    "### Step **0.0** from README.md\n",
    "---\n"
   ]
  },
  {
   "cell_type": "code",
   "execution_count": null,
   "metadata": {
    "colab": {
     "base_uri": "https://localhost:8080/"
    },
    "executionInfo": {
     "elapsed": 21788,
     "status": "ok",
     "timestamp": 1760249808972,
     "user": {
      "displayName": "Marco LO",
      "userId": "12545634896822549773"
     },
     "user_tz": -480
    },
    "id": "gXbRIYlCGq6a",
    "outputId": "00ecb356-5caf-4630-bc03-29553f4f5111"
   },
   "outputs": [
    {
     "name": "stdout",
     "output_type": "stream",
     "text": [
      "Collecting docopt\n",
      "  Downloading docopt-0.6.2.tar.gz (25 kB)\n",
      "  Preparing metadata (setup.py) ... \u001b[?25l\u001b[?25hdone\n",
      "Collecting num2words\n",
      "  Downloading num2words-0.5.14-py3-none-any.whl.metadata (13 kB)\n",
      "Downloading num2words-0.5.14-py3-none-any.whl (163 kB)\n",
      "\u001b[2K   \u001b[90m━━━━━━━━━━━━━━━━━━━━━━━━━━━━━━━━━━━━━━━━\u001b[0m \u001b[32m163.5/163.5 kB\u001b[0m \u001b[31m6.6 MB/s\u001b[0m eta \u001b[36m0:00:00\u001b[0m\n",
      "\u001b[?25hBuilding wheels for collected packages: docopt\n",
      "  Building wheel for docopt (setup.py) ... \u001b[?25l\u001b[?25hdone\n",
      "  Created wheel for docopt: filename=docopt-0.6.2-py2.py3-none-any.whl size=13706 sha256=cbfcb6662495d993735c9d3a69f61db58641962608b6b16ab8ad9c2e27406c3c\n",
      "  Stored in directory: /root/.cache/pip/wheels/1a/bf/a1/4cee4f7678c68c5875ca89eaccf460593539805c3906722228\n",
      "Successfully built docopt\n",
      "Installing collected packages: docopt, num2words\n",
      "Successfully installed docopt-0.6.2 num2words-0.5.14\n",
      "Collecting git+https://github.com/tawnkramer/gym-donkeycar.git\n",
      "  Cloning https://github.com/tawnkramer/gym-donkeycar.git to /tmp/pip-req-build-lyoun5co\n",
      "  Running command git clone --filter=blob:none --quiet https://github.com/tawnkramer/gym-donkeycar.git /tmp/pip-req-build-lyoun5co\n",
      "  Resolved https://github.com/tawnkramer/gym-donkeycar.git to commit d6264fa46a93a50f6add282972efd8b70a18489e\n",
      "  Installing build dependencies ... \u001b[?25l\u001b[?25hdone\n",
      "  Getting requirements to build wheel ... \u001b[?25l\u001b[?25hdone\n",
      "  Preparing metadata (pyproject.toml) ... \u001b[?25l\u001b[?25hdone\n",
      "Collecting gym==0.22 (from gym_donkeycar==1.3.1)\n",
      "  Downloading gym-0.22.0.tar.gz (631 kB)\n",
      "\u001b[2K     \u001b[90m━━━━━━━━━━━━━━━━━━━━━━━━━━━━━━━━━━━━━━\u001b[0m \u001b[32m631.1/631.1 kB\u001b[0m \u001b[31m11.2 MB/s\u001b[0m eta \u001b[36m0:00:00\u001b[0m\n",
      "\u001b[?25h  Installing build dependencies ... \u001b[?25l\u001b[?25hdone\n",
      "  Getting requirements to build wheel ... \u001b[?25l\u001b[?25hdone\n",
      "  Preparing metadata (pyproject.toml) ... \u001b[?25l\u001b[?25hdone\n",
      "Requirement already satisfied: numpy in /usr/local/lib/python3.12/dist-packages (from gym_donkeycar==1.3.1) (2.0.2)\n",
      "Requirement already satisfied: pillow in /usr/local/lib/python3.12/dist-packages (from gym_donkeycar==1.3.1) (11.3.0)\n",
      "Requirement already satisfied: cloudpickle>=1.2.0 in /usr/local/lib/python3.12/dist-packages (from gym==0.22->gym_donkeycar==1.3.1) (3.1.1)\n",
      "Requirement already satisfied: gym_notices>=0.0.4 in /usr/local/lib/python3.12/dist-packages (from gym==0.22->gym_donkeycar==1.3.1) (0.1.0)\n",
      "Building wheels for collected packages: gym_donkeycar, gym\n",
      "  Building wheel for gym_donkeycar (pyproject.toml) ... \u001b[?25l\u001b[?25hdone\n",
      "  Created wheel for gym_donkeycar: filename=gym_donkeycar-1.3.1-py2.py3-none-any.whl size=20797 sha256=f47405a31cd789647bc1a546730d8204bd756a1afd4cc6417f5fea84121cdc2f\n",
      "  Stored in directory: /tmp/pip-ephem-wheel-cache-6iqrmuns/wheels/da/da/d7/bf420dca740c36bc5c11ad3cbdc6ef402eaab2dfcb2f1574e4\n",
      "  Building wheel for gym (pyproject.toml) ... \u001b[?25l\u001b[?25hdone\n",
      "  Created wheel for gym: filename=gym-0.22.0-py3-none-any.whl size=708471 sha256=ad9ebab47f39b2daed858bea3a2a74f7855cd7031ddb0409b5674095001de532\n",
      "  Stored in directory: /root/.cache/pip/wheels/fd/bd/03/a325acb1df8746ce0573ffdf8730f4e7d32f4aa839a56f1b2f\n",
      "Successfully built gym_donkeycar gym\n",
      "Installing collected packages: gym, gym_donkeycar\n",
      "  Attempting uninstall: gym\n",
      "    Found existing installation: gym 0.25.2\n",
      "    Uninstalling gym-0.25.2:\n",
      "      Successfully uninstalled gym-0.25.2\n",
      "Successfully installed gym-0.22.0 gym_donkeycar-1.3.1\n"
     ]
    }
   ],
   "source": [
    "# https://github.com/Triton-AI/jetsim\n",
    "\n",
    "!pip install docopt num2words\n",
    "!pip install git+https://github.com/tawnkramer/gym-donkeycar.git"
   ]
  },
  {
   "cell_type": "code",
   "execution_count": null,
   "metadata": {
    "colab": {
     "base_uri": "https://localhost:8080/"
    },
    "executionInfo": {
     "elapsed": 533,
     "status": "ok",
     "timestamp": 1760249814430,
     "user": {
      "displayName": "Marco LO",
      "userId": "12545634896822549773"
     },
     "user_tz": -480
    },
    "id": "m17J6iS4JGm2",
    "outputId": "2beb7c58-ca8b-4219-e0b6-a1493c5dbb78"
   },
   "outputs": [
    {
     "name": "stdout",
     "output_type": "stream",
     "text": [
      "Cloning into 'jetsim'...\n",
      "remote: Enumerating objects: 134, done.\u001b[K\n",
      "remote: Counting objects: 100% (134/134), done.\u001b[K\n",
      "remote: Compressing objects: 100% (99/99), done.\u001b[K\n",
      "remote: Total 134 (delta 70), reused 89 (delta 34), pack-reused 0 (from 0)\u001b[K\n",
      "Receiving objects: 100% (134/134), 1.93 MiB | 14.75 MiB/s, done.\n",
      "Resolving deltas: 100% (70/70), done.\n"
     ]
    }
   ],
   "source": [
    "\n",
    "!git clone https://github.com/USeebi/jetsim-fork.git\n"
   ]
  },
  {
   "cell_type": "code",
   "execution_count": null,
   "metadata": {
    "colab": {
     "base_uri": "https://localhost:8080/"
    },
    "executionInfo": {
     "elapsed": 2236,
     "status": "ok",
     "timestamp": 1760249870975,
     "user": {
      "displayName": "Marco LO",
      "userId": "12545634896822549773"
     },
     "user_tz": -480
    },
    "id": "z-z-Ee9UQk6t",
    "outputId": "bd44534b-b27a-4079-9e05-4a1a5c3908ff"
   },
   "outputs": [
    {
     "name": "stdout",
     "output_type": "stream",
     "text": [
      "Selecting previously unselected package cloudflared.\n",
      "(Reading database ... 126675 files and directories currently installed.)\n",
      "Preparing to unpack cloudflared-linux-amd64.deb ...\n",
      "Unpacking cloudflared (2025.9.1) ...\n",
      "Setting up cloudflared (2025.9.1) ...\n",
      "Processing triggers for man-db (2.10.2-1) ...\n",
      "cloudflared version 2025.9.1 (built 2025-09-22-13:28 UTC)\n"
     ]
    }
   ],
   "source": [
    "# Download and install cloudflared\n",
    "!wget -q https://github.com/cloudflare/cloudflared/releases/latest/download/cloudflared-linux-amd64.deb && dpkg -i cloudflared-linux-amd64.deb\n",
    "!cloudflared -v"
   ]
  },
  {
   "cell_type": "markdown",
   "metadata": {},
   "source": [
    "Change SUBDOMAIN to a host domain name before proceed."
   ]
  },
  {
   "cell_type": "code",
   "execution_count": null,
   "metadata": {
    "colab": {
     "base_uri": "https://localhost:8080/"
    },
    "executionInfo": {
     "elapsed": 10,
     "status": "ok",
     "timestamp": 1760249896499,
     "user": {
      "displayName": "Marco LO",
      "userId": "12545634896822549773"
     },
     "user_tz": -480
    },
    "id": "ETDJMMaWipyi",
    "outputId": "f8392785-4316-4f89-d8d3-327f183abb6f"
   },
   "outputs": [
    {
     "name": "stdout",
     "output_type": "stream",
     "text": [
      "Process started with PID: 12646\n"
     ]
    }
   ],
   "source": [
    "import subprocess\n",
    "\n",
    "process = subprocess.Popen(\n",
    "    [\n",
    "        'bash', '-c',\n",
    "        'cloudflared access tcp --hostname <SUBDOMAIN>.trycloudflare.com --url 127.0.0.1:9091 &'\n",
    "    ],\n",
    "    stdout=subprocess.PIPE,\n",
    "    stderr=subprocess.PIPE,\n",
    "    text=True  # Use text=True for string output\n",
    ")\n",
    "\n",
    "print(f\"Process started with PID: {process.pid}\")\n",
    "#stdout_data, stderr_data = process.communicate()\n",
    "\n"
   ]
  },
  {
   "cell_type": "markdown",
   "metadata": {
    "id": "_fyrZ_JiE4Er"
   },
   "source": [
    "Create the racecar dictionary\n",
    "===\n",
    "\n",
    "---\n",
    "\n",
    "customize your car settings.\n",
    "\n",
    "Select track to train on ('warren' is defualt track)\n",
    "\n",
    "---"
   ]
  },
  {
   "cell_type": "code",
   "execution_count": null,
   "metadata": {
    "id": "-NbYfK01E4Es"
   },
   "outputs": [],
   "source": [
    "#initialize gym wrapper\n",
    "\n",
    "GYM_DICT={\n",
    "  'car':{\n",
    "    #custom settings\n",
    "    'racer_name': 'Jetsim_NAME',\n",
    "    'bio' : 'Triton_AI_Jetsim = Jetracer',\n",
    "    'country' : 'US',\n",
    "    \"guid\": \"GO_TRITON_AI\",\n",
    "    'body_style' : 'f1',         #car01 | f1 | donkey\n",
    "    'body_rgb': (24, 43, 200),      #(R, G, B)\n",
    "    'car_name' : 'Training_Jetsim', #displays above car\n",
    "    'font_size' : 50,\n",
    "    #camera settings\n",
    "    \"fov\" : 80,\n",
    "    \"fish_eye_x\" : 0.0,\n",
    "    \"fish_eye_y\" : 0.0,\n",
    "    \"img_w\" : 224,\n",
    "    \"img_h\" : 224,\n",
    "    \"img_d\" : 3,\n",
    "    \"img_enc\" : 'JPG',\n",
    "    \"offset_x\" : 0.0, #sides\n",
    "    \"offset_y\" : 2.0, #height #Jetsim 2.0\n",
    "    \"offset_z\" : 0.0, #forward\n",
    "    \"rot_x\" : 20.0,   #tilt #Jetsim 0.0\n",
    "    #\"rot_y\": 180,    #rotate\n",
    "    },\n",
    "\n",
    "    #connection type\n",
    "    'default_connection': 'local',\n",
    "\n",
    "    'local_connection':{\n",
    "      'scene_name': 'warren', # warren | thunderhill | mini_monaco | roboracingleague_1 | generated_track | generated_road | warehouse | sparkfun_avc | waveshare\n",
    "######YOUR HOST COMPUTER IP ADDRESS######\n",
    "      'host': '127.0.0.1', #UPDATE WITH COMPUTER IP ADDRESS HOSTING SIM\n",
    "######YOUR HOST COMPUTER IP ADDRESS######\n",
    "      'port': 9091,\n",
    "      'artificial_latency': 0},\n",
    "\n",
    "    'remote_connection':{\n",
    "        'scene_name': 'warren',\n",
    "###### REMOTE IP ADDRESS ######\n",
    "        'host': 'donkey-sim.roboticist.dev', # DIY Robocar virtual track server = 'donkey-sim.roboticist.dev'\n",
    "###### REMOTE IP ADDRESS ######\n",
    "        'port': 9091,\n",
    "        'artificial_latency': 0},# Ping the remote simulator. millisecond here.\n",
    "\n",
    "    'lidar':{\n",
    "        'enabled': False,\n",
    "        'deg_inc': 1, # Degree increment between each ray of the lidar\n",
    "        'max_range': 30.0}, # Max range of the lidar laser\n",
    "    }\n"
   ]
  },
  {
   "cell_type": "markdown",
   "metadata": {
    "id": "D5qw3cFEE4Es",
    "tags": []
   },
   "source": [
    "Send dictionary to SdSandbox Gym interface\n",
    "===\n",
    "\n",
    "### Make sure to turn ON **Donkeycar Simulator** before running the code below"
   ]
  },
  {
   "cell_type": "code",
   "execution_count": null,
   "metadata": {
    "colab": {
     "base_uri": "https://localhost:8080/"
    },
    "executionInfo": {
     "elapsed": 3022,
     "status": "ok",
     "timestamp": 1760254101832,
     "user": {
      "displayName": "Marco LO",
      "userId": "12545634896822549773"
     },
     "user_tz": -480
    },
    "id": "KYLXfPAyE4Et",
    "outputId": "0dbc54ad-ad53-4360-d600-ce932cd996bc",
    "scrolled": true
   },
   "outputs": [
    {
     "name": "stdout",
     "output_type": "stream",
     "text": [
      "/content/jetsim/jetsim_local/resources\n",
      "/content\n",
      "Loading scene: warren\n",
      "Sending configs...\n",
      "Sending racer info\n",
      "Car loaded.\n",
      "Sending car config\n",
      "Gym Interface: Camera resolution (224, 224).\n",
      "(224, 224, 3)\n"
     ]
    }
   ],
   "source": [
    "import time\n",
    "%cd jetsim-fork/jetsim_local/resources\n",
    "from gyminterface import GymInterface\n",
    "%cd ../../../\n",
    "\n",
    "# Initialization of the GymInterface (inherited from SDClient) sets up a\n",
    "# background thread to manage socket communication with the Donkeycar simulator.\n",
    "gym = GymInterface(gym_config=GYM_DICT)\n",
    "time.sleep(1)\n",
    "imageSeen, x, y, z, speed, cte, lidar = gym.step(0.0, 0.0, 0.0, False)\n",
    "# https://blog.csdn.net/Karen_Yu_/article/details/115293733\n",
    "#print(imageSeen.shape)\n",
    "newArray = imageSeen[:]\n",
    "print(newArray.shape)\n",
    "\n",
    "# If you run this cell more than once it will generate more cars in the sim. Turn simulator application off and back on to delete all cars.\n"
   ]
  },
  {
   "cell_type": "markdown",
   "metadata": {},
   "source": [
    "---\n",
    "\n",
    "This will initialize the **racecar in the simulator**. Check if the car **populated** in the sim.\n",
    "\n",
    "When you call gym.step(...) the following happens internally:\n",
    "- A control command is sent to the simulator.\n",
    "- Your code waits for the next telemetry or relevant response, which is received and processed by on_msg_recv().\n",
    "- on_msg_recv() updates the internal state, making the latest simulator data available for the next step or observation.\n",
    "\n",
    "---"
   ]
  },
  {
   "cell_type": "code",
   "execution_count": null,
   "metadata": {
    "id": "5-CvN8_kE4Eu"
   },
   "outputs": [],
   "source": [
    "# If the custom car setting did not load correctly, uncomment this to take car out of sim and then re-run the cell above.\n",
    "#gym.onShutdown()"
   ]
  },
  {
   "cell_type": "markdown",
   "metadata": {
    "id": "aNaHAbhPPpzu"
   },
   "source": [
    "---\n",
    "\n",
    "### SETUP SERIAL WebSocket SERVER to use RC Controller\n",
    "\n",
    "Load **p5.serialcontrol** after connecting an Arduino device via USB\n",
    "\n",
    "Select Port to Arduino and change const serialPort below accordingly\n",
    "\n",
    "### Step 0.2 from README.md\n",
    "\n",
    "---"
   ]
  },
  {
   "cell_type": "markdown",
   "metadata": {},
   "source": [
    "Goto **Method 2** below to try the Virtual Joystick mouse control if you don't have a RC Controller"
   ]
  },
  {
   "cell_type": "code",
   "execution_count": null,
   "metadata": {
    "colab": {
     "base_uri": "https://localhost:8080/",
     "height": 121
    },
    "collapsed": true,
    "executionInfo": {
     "elapsed": 16,
     "status": "ok",
     "timestamp": 1760174179035,
     "user": {
      "displayName": "Marco LO",
      "userId": "12545634896822549773"
     },
     "user_tz": -480
    },
    "id": "bc604DlNjNa4",
    "outputId": "5c284383-6b50-4846-80c2-568fc0ec0d23"
   },
   "outputs": [
    {
     "data": {
      "text/html": [
       "\n",
       "<script src=\"https://cdn.jsdelivr.net/npm/p5@1.11.10/lib/p5.min.js\"></script>\n",
       "<script src=\"https://cdn.jsdelivr.net/npm/p5.serialserver@0.0.29/lib/p5.serialport.js\"></script>\n",
       "<script>\n",
       "\n",
       "  // serial port name matching p5.serialcontrol selection\n",
       "  const serialPort = 'COM3';\n",
       "  // reference to the serial port\n",
       "  let serial;\n",
       "  let options = { baudRate: 115200 };\n",
       "  let latestData = \"waiting for data\";\n",
       "\n",
       "  alert('This is a JavaScript alert!');\n",
       "  new p5();\n",
       "\n",
       "  serial = new p5.SerialPort();\n",
       "\n",
       "  serial.on('open', gotOpen);\n",
       "  serial.on('data', gotData);\n",
       "  serial.on('error', gotError);\n",
       "  serial.on('close', gotClose);\n",
       "\n",
       "  serial.open(serialPort, options);\n",
       "\n",
       "  function gotOpen() {\n",
       "    latestData = \"Serial Port is Open\";\n",
       "    google.colab.kernel.invokeFunction('data_to_receive', [latestData], {});\n",
       "  }\n",
       "\n",
       "  function gotClose(){\n",
       "    latestData = \"Serial Port is Closed\";\n",
       "    google.colab.kernel.invokeFunction('data_to_receive', [latestData], {});\n",
       "  }\n",
       "\n",
       "  function gotError(theerror) {\n",
       "    print(theerror);\n",
       "  }\n",
       "\n",
       "  function gotData() {\n",
       "    let currentString = serial.readLine();\n",
       "      trim(currentString);\n",
       "    if (!currentString) return;\n",
       "    latestData = currentString;\n",
       "    google.colab.kernel.invokeFunction('line_to_receive', [latestData], {});\n",
       "  }\n",
       "\n",
       "</script>\n"
      ],
      "text/plain": [
       "<IPython.core.display.HTML object>"
      ]
     },
     "metadata": {},
     "output_type": "display_data"
    }
   ],
   "source": [
    "# https://colab.research.google.com/drive/1TqF6RObllyslad3KrO4SiAuegRjuJDCF\n",
    "\n",
    "from IPython.display import HTML, Audio\n",
    "from google.colab import output\n",
    "\n",
    "import cv2\n",
    "import pygame\n",
    "import time\n",
    "import numpy as np\n",
    "from google.colab.patches import cv2_imshow\n",
    "\n",
    "steering = 0.0\n",
    "throttle = 0.0\n",
    "breaks = 0.0\n",
    "\n",
    "pygame.init()\n",
    "imageSeen, x, y, z, speed, cte, lidar = gym.step(0.0, 0.0, 0.0, False)\n",
    "newArray = np.copy(imageSeen)\n",
    "print(newArray.shape)\n",
    "newArray[:, :, [2, 0]] = newArray[:, :, [0, 2]]\n",
    "\n",
    "C_html = \"\"\"\n",
    "<script src=\"https://cdn.jsdelivr.net/npm/p5@1.11.10/lib/p5.min.js\"></script>\n",
    "<script src=\"https://cdn.jsdelivr.net/npm/p5.serialserver@0.0.29/lib/p5.serialport.js\"></script>\n",
    "<script>\n",
    "\n",
    "  // serial port name matching p5.serialcontrol selection\n",
    "  const serialPort = 'COM3';\n",
    "  // reference to the serial port\n",
    "  let serial;\n",
    "  let options = { baudRate: 115200 };\n",
    "  let latestData = \"waiting for data\";\n",
    "\n",
    "  alert('This is a JavaScript alert!');\n",
    "  new p5();\n",
    "\n",
    "  serial = new p5.SerialPort();\n",
    "\n",
    "  serial.on('open', gotOpen);\n",
    "  serial.on('data', gotData);\n",
    "  serial.on('error', gotError);\n",
    "  serial.on('close', gotClose);\n",
    "\n",
    "  serial.open(serialPort, options);\n",
    "\n",
    "  function gotOpen() {\n",
    "    latestData = \"Serial Port is Open\";\n",
    "    google.colab.kernel.invokeFunction('data_to_receive', [latestData], {});\n",
    "  }\n",
    "\n",
    "  function gotClose(){\n",
    "    latestData = \"Serial Port is Closed\";\n",
    "    google.colab.kernel.invokeFunction('data_to_receive', [latestData], {});\n",
    "  }\n",
    "\n",
    "  function gotError(theerror) {\n",
    "    print(theerror);\n",
    "  }\n",
    "\n",
    "  function gotData() {\n",
    "    let currentString = serial.readLine();\n",
    "      trim(currentString);\n",
    "    if (!currentString) return;\n",
    "    latestData = currentString;\n",
    "    google.colab.kernel.invokeFunction('line_to_receive', [latestData], {});\n",
    "  }\n",
    "\n",
    "</script>\n",
    "\"\"\"\n",
    "\n",
    "def handle_js_data(line):\n",
    "  \"\"\"\n",
    "  This Python function will receive data from JavaScript.\n",
    "  \"\"\"\n",
    "  #print(f\"Received data from JavaScript: {line}\")\n",
    "  # Process the data as needed in your Python environment\n",
    "  try:\n",
    "      # Parse the comma-separated string\n",
    "      var1_str, var2_str, var3_str = line.split(',')\n",
    "      steering = float(var2_str) / 90\n",
    "      throttle = int(var3_str) / 100\n",
    "\n",
    "      # Print or process the variables\n",
    "      #print(f\"Read: var1={var1_str}, var2={steering}, var3={throttle}\")\n",
    "      imageSeen, x, y, z, speed, cte, lidar = gym.step(steering, throttle, breaks, False);\n",
    "      newArray = np.copy(imageSeen)\n",
    "      newArray[:, :, [2, 0]] = newArray[:, :, [0, 2]]\n",
    "\n",
    "  except ValueError as e:\n",
    "      print(f\"Skipping malformed data: '{line}' Error: {e}\")\n",
    "  \n",
    "  pygame.event.pump()\n",
    "  #cv2_imshow(newArray)\n",
    "\n",
    "display(HTML(C_html))\n",
    "output.register_callback('line_to_receive', handle_js_data)\n"
   ]
  },
  {
   "cell_type": "code",
   "execution_count": null,
   "metadata": {
    "id": "xWzu4sTVE4Ew",
    "outputId": "1d08298b-090a-4be0-9a27-0bb88d28699a"
   },
   "outputs": [
    {
     "name": "stdout",
     "output_type": "stream",
     "text": [
      "speed:  2.64904069900513\n",
      "cte - Cross Track Error (how far from center line):  1.59317028522491\n",
      "Resetting car...\n"
     ]
    }
   ],
   "source": [
    "print('speed: ', speed)\n",
    "print('cte - Cross Track Error (how far from center line): ', cte)\n",
    "\n",
    "#reset car if needed\n",
    "gym.step(0.0, 0.0, 0.0, True)\n",
    "\n",
    "#cv2.destroyWindow(\"image\")"
   ]
  },
  {
   "cell_type": "markdown",
   "metadata": {
    "id": "KFtO2GOXchEf"
   },
   "source": [
    "---\n",
    "\n",
    "### SETUP Web Serial to connect DUMBORC Transmitter via Arduino USB\n",
    "\n",
    "---"
   ]
  },
  {
   "cell_type": "markdown",
   "metadata": {
    "id": "k9jt-14oE4Ex",
    "jp-MarkdownHeadingCollapsed": true
   },
   "source": [
    "There are 2 methods to control car and collect data.\n",
    "===\n",
    "\n",
    "- **Method 1** Keyboard control and post processing images.\n",
    "- **Method 2** Click image to drive and collect data at the same time.\n",
    "\n",
    "### Tip\n",
    "\n",
    "- collect ~200 images minimum following on yellow lines.\n",
    "- collect ~200 images minimum avoiding outer lines and cones."
   ]
  },
  {
   "cell_type": "markdown",
   "metadata": {
    "id": "guySDE28E4Ex"
   },
   "source": [
    "Method 1 Keyboard control\n",
    "===\n",
    "\n",
    "### 2 windows will pop up:\n",
    "\n",
    "- Live stream image from the 'virtual' camera.\n",
    "- Pygame black square for keyboard inputs.\n",
    "\n",
    "*Both windows are needed to control the car.*\n",
    "\n",
    "### Controls\n",
    "Click the **black square** to activate controls:\n",
    "\n",
    "- Arrow keys: DRIVE\n",
    "- C : CAMERA (take 3 pictures)\n",
    "- X : BREAK\n",
    "- Z : SHOW current car coordinates\n",
    "- Red STOP button : 'kernel interrupt' to stop training loop.\n",
    "\n",
    "### Images will save in *m1_images* folder.\n",
    "\n"
   ]
  },
  {
   "cell_type": "code",
   "execution_count": null,
   "metadata": {
    "id": "hPlMZmy3E4Ex",
    "outputId": "e6f982b9-07a7-42a6-b294-502b79297e6c",
    "tags": []
   },
   "outputs": [
    {
     "name": "stdout",
     "output_type": "stream",
     "text": [
      "\n",
      "\n",
      "************ CONTROLS ************\n",
      "\n",
      "   Arrow keys: DRIVE\n",
      "   Z : SHOW car coordinates\n",
      "   X : BREAK\n",
      "   C : CAMERA (take 5 pictures)\n",
      "   Red STOP button : 'kernel interrupt' to stop training loop\n",
      "\n",
      "***********************************\n",
      "\n",
      "\n",
      "Directory 'm1_images' already exists\n",
      "(224, 224, 3)\n"
     ]
    }
   ],
   "source": [
    "import cv2\n",
    "\n",
    "def bgr8_to_jpeg(value, quality=100):\n",
    "    return bytes(cv2.imencode('.jpg', value)[1])\n",
    "\n",
    "import pygame, time\n",
    "from pygame.locals import *\n",
    "import numpy as np\n",
    "import time\n",
    "import os\n",
    "\n",
    "counter = 1\n",
    "steer = 0.0\n",
    "throttle = 0.0\n",
    "breaks = 0.0\n",
    "\n",
    "pygame.init()\n",
    "screen = pygame.display.set_mode((300, 200)) #black square\n",
    "pygame.display.set_caption('Pygame Keyboard Test')\n",
    "pygame.mouse.set_visible(0)\n",
    "\n",
    "print (\"\\n\\n************ CONTROLS ************\\n\\n   Arrow keys: DRIVE\\n   Z : SHOW car coordinates\\n   X : BREAK\\n   C : CAMERA (take 5 pictures)\\n   Red STOP button : 'kernel interrupt' to stop training loop\\n\\n***********************************\\n\\n\")\n",
    "\n",
    "dir = \"m1_images\"\n",
    "try:\n",
    "    os.makedirs(dir, exist_ok = False)\n",
    "    print(\"Directory '%s' created successfully\" % dir)\n",
    "except OSError as error:\n",
    "    print(\"Directory '%s' already exists\" % dir)\n",
    "\n",
    "imageSeen, x, y, z, speed, cte, lidar = gym.step(0.0, 0.0, 0.0, False)\n",
    "newArray = np.copy(imageSeen)\n",
    "print(newArray.shape)\n",
    "newArray[:, :, [2, 0]] = newArray[:, :, [0, 2]]\n",
    "\n",
    "try:\n",
    "    while True:\n",
    "        keyState = pygame.key.get_pressed()\n",
    "        if(len(keyState) != 0):\n",
    "            if keyState[pygame.K_UP]:\n",
    "                throttle = 0.5\n",
    "            elif keyState[pygame.K_DOWN]:\n",
    "                throttle = -1.0\n",
    "            else:\n",
    "                throttle = 0.0\n",
    "            if keyState[pygame.K_RIGHT]:\n",
    "                steer = 1.0\n",
    "            elif keyState[pygame.K_LEFT]:\n",
    "                steer = -1.0\n",
    "            else:\n",
    "                steer = 0.0\n",
    "\n",
    "            if keyState[pygame.K_x]:\n",
    "                breaks = 1000.0\n",
    "            else:\n",
    "                breaks = 0.0\n",
    "\n",
    "            imageSeen, x, y, z, speed, cte, lidar = gym.step(steer, throttle, breaks, False);\n",
    "            newArray = np.copy(imageSeen)\n",
    "            newArray[:, :, [2, 0]] = newArray[:, :, [0, 2]]\n",
    "\n",
    "            if keyState[pygame.K_c]:\n",
    "\n",
    "                for i in range(3): #takes 3 pictures in one shot\n",
    "                    cv2.imwrite('./m1_images/' + 'data_point_' + \"{:03d}\".format(counter) + \".jpg\", (newArray))\n",
    "                    counter = counter + 1\n",
    "                print(str(counter-1) + \" image(s) captured\")\n",
    "                time.sleep(.3)  #snap the photo and wait .3 seconds to allow finger to release button. While loop is too fast when you press B.\n",
    "            if counter >= 999:\n",
    "                print(\"TOO MANY PICTURES\")\n",
    "                gym.step(0.0, 0.0, 100.0, False)\n",
    "                time.sleep(1)\n",
    "                print('\\nTRAINING STOPPED')\n",
    "                gym.step(0.0, 0.0, 0.0, True);\n",
    "                break\n",
    "\n",
    "            if keyState[pygame.K_z]:\n",
    "                print(\"x = \"+str(x)+\", z = \"+str(z))\n",
    "                time.sleep(.3)\n",
    "\n",
    "            if keyState[pygame.K_v]:\n",
    "                print(lidar)\n",
    "                time.sleep(.3)\n",
    "\n",
    "        else:\n",
    "            throttle = 0.0\n",
    "            steer = 0.0\n",
    "            breaks = 0.0\n",
    "            print('BRAKE')\n",
    "            imageSeen, x, y, z, speed, cte, lidar = gym.step(0.0, 0.0, 100.0, False)\n",
    "\n",
    "        pygame.event.pump()\n",
    "        cv2.imshow(\"image\", newArray)\n",
    "\n",
    "except KeyboardInterrupt:\n",
    "\n",
    "    #Resets steering and throttle to 0, applies breaks and resets for 1 second\n",
    "    gym.step(0.0, 0.0, 100.0, False)\n",
    "    time.sleep(1)\n",
    "    print('\\nTRAINING STOPPED')\n",
    "    gym.step(0.0, 0.0, 0.0, True);"
   ]
  },
  {
   "cell_type": "markdown",
   "metadata": {
    "id": "IIpPR7mbE4Ey"
   },
   "source": [
    "---\n",
    "### If finished - Click interrupt Jupyter kernel \"STOP\" button at top controls.\n",
    "### Verify *m1_images* folder is populated with data. Exit this notebook.\n",
    "### Proceed to *step 3.2* in README.md and run *postprocess_images.py* Good luck!\n",
    "\n",
    "---"
   ]
  },
  {
   "cell_type": "code",
   "execution_count": null,
   "metadata": {
    "id": "IfvdtlaLE4Ey"
   },
   "outputs": [],
   "source": [
    "gym.onShutdown()"
   ]
  },
  {
   "cell_type": "markdown",
   "metadata": {
    "id": "FmenZjSqE4Ey"
   },
   "source": [
    "Method 2 Image click and drive.\n",
    "===\n",
    "\n",
    "### 2 wisgets will pop up:\n",
    "\n",
    "- Clickable 'virtual' camera that takes a picture and drives the car to that direction.\n",
    "- Click and hold 'virtual' joystick to manually control the car.\n",
    "\n",
    "*Both windows can control the car.*\n",
    "\n",
    "### How to collect data\n",
    "Click the **'virtual' camera image** in the direction you want the car to drive. Hold the click to pick up more speed. Click farther out to drive faster or closer to car to drive slower.\n",
    "If you need to correct your position without taking a picture use the **'virtual' joystick** to manually move the car in position.\n",
    "\n",
    "### Images will save in *m2_images* folder.\n"
   ]
  },
  {
   "cell_type": "code",
   "execution_count": null,
   "metadata": {
    "id": "Oq5CtQz0FD58"
   },
   "outputs": [],
   "source": [
    "try:\n",
    "  import google.colab\n",
    "  !pip install ipycanvas==0.11\n",
    "  from google.colab import output\n",
    "  output.enable_custom_widget_manager()\n",
    "  IN_COLAB=True\n",
    "except:\n",
    "  IN_COLAB = False"
   ]
  },
  {
   "cell_type": "code",
   "execution_count": null,
   "metadata": {
    "id": "Oj-AhLE1E4Ez",
    "scrolled": true
   },
   "outputs": [],
   "source": [
    "import ipywidgets\n",
    "from ipycanvas import Canvas\n",
    "from ipywidgets import Image\n",
    "from ipywidgets import Layout\n",
    "import cv2\n",
    "import numpy as np\n",
    "import os\n",
    "from datetime import datetime\n",
    "\n",
    "\n",
    "def handle_mouse_down(x, y):\n",
    "    global newImage\n",
    "    x = int(x)\n",
    "    y = int(y)\n",
    "    gym.step((2.0 * (x / 224.0 - 0.5)), (-2.0 * (y / 224.0 - 0.8)), 0.0, False)\n",
    "\n",
    "    now = str(datetime.now())\n",
    "    now = now.replace(\" \", \"\")\n",
    "    now = now.replace(\".\", \"\")\n",
    "    now = now.replace(\":\", \"-\")\n",
    "    newName = str(x) + \"_\" + str(y) + \"_\" + str(now) + \".jpg\"\n",
    "    cv2.imwrite(\"./m2_images/\"+newName, newImage)\n",
    "\n",
    "def handle_mouse_up(x, y):\n",
    "    rewrite_canvas()\n",
    "\n",
    "def rewrite_canvas():\n",
    "    global newImage\n",
    "    canvas.clear()\n",
    "    imageSeen, cx, cy, cz, speed, cte, lidar = gym.step(0.0, 0.0, 0.0, False)\n",
    "    newImage = np.copy(imageSeen)\n",
    "    newImage[:, :, [2, 0]] = newImage[:, :, [0, 2]]\n",
    "    cv2.imwrite(\"./m2_images/DELETE.jpg\", newImage)\n",
    "    current = Image.from_file('./m2_images/DELETE.jpg')\n",
    "    canvas.draw_image(current, 0, 0)\n",
    "    os.remove('./m2_images/DELETE.jpg')\n",
    "\n",
    "def manual_mouse_down(x, y):\n",
    "    joystick.on_mouse_move(manual_move, remove=False)\n",
    "\n",
    "def manual_mouse_up(x, y):\n",
    "    joystick.on_mouse_move(manual_move, remove=True)\n",
    "    gym.step(0.0, 0.0, 1.0, False)\n",
    "\n",
    "def manual_out(x, y):\n",
    "    gym.step(0.0, 0.0, 1.0, False)\n",
    "\n",
    "def manual_move(x, y):\n",
    "    gym.step((2.0 * (x / 224.0 - 0.5)), (-2.0 * (y / 224.0 - 0.5)), 0.0, False)\n",
    "\n",
    "\n",
    "\n",
    "global newImage\n",
    "time.sleep(1)\n",
    "gym.step(0.0, 0.0, 0.0, True);\n",
    "time.sleep(1)\n",
    "\n",
    "dir = \"m2_images\"\n",
    "try:\n",
    "    os.makedirs(dir, exist_ok = False)\n",
    "    print(\"Directory '%s' created successfully\" % dir)\n",
    "except OSError as error:\n",
    "    print(\"Directory '%s' already exists\" % dir)\n",
    "\n",
    "print (\"\\n\\n************************ CONTROLS ************************\\n\\nRepeatedly click path on image to move car.\\nClick farther out to drive faster or closer to car to drive slower.\\nHINT: find the optimal driving path.\\n\\n***********************************************************\\n\\n\")\n",
    "\n",
    "canvas = Canvas(width=224, height=224)\n",
    "rewrite_canvas()\n",
    "canvas.on_mouse_down(handle_mouse_down)\n",
    "canvas.on_mouse_up(handle_mouse_up)\n",
    "\n",
    "joystick = Canvas(width=224, height=224)\n",
    "directions = Image.from_file('./jetsim-fork/jetsim_local/resources/joystick.png')\n",
    "joystick.draw_image(directions, 0, 0)\n",
    "joystick.on_mouse_up(manual_mouse_up)\n",
    "joystick.on_mouse_down(manual_mouse_down)\n",
    "joystick.on_mouse_move(manual_move, remove=True)\n",
    "joystick.on_mouse_out(manual_out)\n",
    "joystick.stroke_style = 'blue'\n",
    "joystick.stroke_rect(2, 2, 222, 222)\n",
    "\n",
    "\n",
    "all_controls = ipywidgets.HBox([canvas, joystick])\n",
    "all_controls\n",
    "\n"
   ]
  },
  {
   "cell_type": "code",
   "execution_count": null,
   "metadata": {
    "id": "SxI8l6c9E4Ez",
    "outputId": "84542567-f623-41d4-c55f-a40161fd9e54"
   },
   "outputs": [
    {
     "name": "stdout",
     "output_type": "stream",
     "text": [
      "Resetting car...\n"
     ]
    }
   ],
   "source": [
    "#reset car if needed\n",
    "gym.step(0.0, 0.0, 0.0, True);"
   ]
  },
  {
   "cell_type": "markdown",
   "metadata": {
    "id": "-OJWJijpE4Ez",
    "tags": []
   },
   "source": [
    "---\n",
    "### If finished - Verify *m2_images* folder is populated with data. Exit this notebook.\n",
    "### Proceed to **step 4.1** in README.md and transfer folders to Google Drive. Good luck!\n",
    "\n",
    "---"
   ]
  },
  {
   "cell_type": "code",
   "execution_count": null,
   "metadata": {
    "id": "Mikk6CcRE4Ez"
   },
   "outputs": [],
   "source": [
    "gym.onShutdown()"
   ]
  },
  {
   "cell_type": "code",
   "execution_count": null,
   "metadata": {
    "id": "suvTFAknE4Ez"
   },
   "outputs": [],
   "source": []
  }
 ],
 "metadata": {
  "colab": {
   "collapsed_sections": [
    "UGl09ldEdw5P",
    "aNaHAbhPPpzu"
   ],
   "provenance": []
  },
  "interpreter": {
   "hash": "541dbd4c8bd7f92407a81ca37d664b2b32445d284cbd17bfcc7cd6df867e253b"
  },
  "kernelspec": {
   "display_name": "Python [conda env:Miniconda3-donkey]",
   "language": "python",
   "name": "conda-env-Miniconda3-donkey-py"
  },
  "language_info": {
   "codemirror_mode": {
    "name": "ipython",
    "version": 3
   },
   "file_extension": ".py",
   "mimetype": "text/x-python",
   "name": "python",
   "nbconvert_exporter": "python",
   "pygments_lexer": "ipython3",
   "version": "3.9.21"
  }
 },
 "nbformat": 4,
 "nbformat_minor": 0
}
